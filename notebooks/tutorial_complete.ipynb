{
 "cells": [
  {
   "cell_type": "markdown",
   "metadata": {},
   "source": [
    "# Applied Modelling for Senior Leaders\n",
    "Welcome to your interactive notebook on applied modelling!  This is a programmatic notebook in Python, that will walk you through this tutorial exercise.\n",
    "\n",
    "\n",
    "## Practical 1 - Correlation"
   ]
  },
  {
   "cell_type": "code",
   "execution_count": 9,
   "metadata": {},
   "outputs": [],
   "source": [
    "import numpy as np\n",
    "import statsmodels.api as smf\n",
    "import pandas as pd\n",
    "import statsmodels.formula.api as smf\n",
    "import statsmodels.api as sm"
   ]
  },
  {
   "cell_type": "markdown",
   "metadata": {},
   "source": [
    "Let's start by \"ingesting\" some data."
   ]
  },
  {
   "cell_type": "code",
   "execution_count": 10,
   "metadata": {},
   "outputs": [],
   "source": [
    "train = pd.read_csv('../data/training.csv', index_col=0)\n",
    "test = pd.read_csv('../data/testing.csv', index_col=0)\n"
   ]
  },
  {
   "cell_type": "markdown",
   "metadata": {},
   "source": [
    "## Milestone 1 - Correlation"
   ]
  },
  {
   "cell_type": "markdown",
   "metadata": {},
   "source": [
    "Below, we've calculated correlation between age and years in the labour force."
   ]
  },
  {
   "cell_type": "code",
   "execution_count": 11,
   "metadata": {},
   "outputs": [
    {
     "data": {
      "text/html": [
       "<div>\n",
       "<style scoped>\n",
       "    .dataframe tbody tr th:only-of-type {\n",
       "        vertical-align: middle;\n",
       "    }\n",
       "\n",
       "    .dataframe tbody tr th {\n",
       "        vertical-align: top;\n",
       "    }\n",
       "\n",
       "    .dataframe thead th {\n",
       "        text-align: right;\n",
       "    }\n",
       "</style>\n",
       "<table border=\"1\" class=\"dataframe\">\n",
       "  <thead>\n",
       "    <tr style=\"text-align: right;\">\n",
       "      <th></th>\n",
       "      <th>age</th>\n",
       "      <th>years_in_labour_force</th>\n",
       "    </tr>\n",
       "  </thead>\n",
       "  <tbody>\n",
       "    <tr>\n",
       "      <th>age</th>\n",
       "      <td>1.0</td>\n",
       "      <td>0.749</td>\n",
       "    </tr>\n",
       "  </tbody>\n",
       "</table>\n",
       "</div>"
      ],
      "text/plain": [
       "     age  years_in_labour_force\n",
       "age  1.0                  0.749"
      ]
     },
     "execution_count": 11,
     "metadata": {},
     "output_type": "execute_result"
    }
   ],
   "source": [
    "train[['age','years_in_labour_force']].corr().iloc[0:1]"
   ]
  },
  {
   "cell_type": "markdown",
   "metadata": {},
   "source": [
    "How would you tweak the below code to examine "
   ]
  },
  {
   "cell_type": "code",
   "execution_count": 12,
   "metadata": {},
   "outputs": [
    {
     "data": {
      "text/html": [
       "<div>\n",
       "<style scoped>\n",
       "    .dataframe tbody tr th:only-of-type {\n",
       "        vertical-align: middle;\n",
       "    }\n",
       "\n",
       "    .dataframe tbody tr th {\n",
       "        vertical-align: top;\n",
       "    }\n",
       "\n",
       "    .dataframe thead th {\n",
       "        text-align: right;\n",
       "    }\n",
       "</style>\n",
       "<table border=\"1\" class=\"dataframe\">\n",
       "  <thead>\n",
       "    <tr style=\"text-align: right;\">\n",
       "      <th></th>\n",
       "      <th>committed</th>\n",
       "      <th>age</th>\n",
       "      <th>years_in_labour_force</th>\n",
       "      <th>years_of_further_education</th>\n",
       "      <th>miles_resided_from_coast</th>\n",
       "    </tr>\n",
       "  </thead>\n",
       "  <tbody>\n",
       "    <tr>\n",
       "      <th>committed</th>\n",
       "      <td>1.0</td>\n",
       "      <td>0.27</td>\n",
       "      <td>0.23</td>\n",
       "      <td>-0.15</td>\n",
       "      <td>-0.1</td>\n",
       "    </tr>\n",
       "  </tbody>\n",
       "</table>\n",
       "</div>"
      ],
      "text/plain": [
       "           committed   age  years_in_labour_force  years_of_further_education  \\\n",
       "committed        1.0  0.27                   0.23                       -0.15   \n",
       "\n",
       "           miles_resided_from_coast  \n",
       "committed                      -0.1  "
      ]
     },
     "execution_count": 12,
     "metadata": {},
     "output_type": "execute_result"
    }
   ],
   "source": [
    "train[['committed','age', 'years_in_labour_force', 'years_of_further_education',\n",
    "       'miles_resided_from_coast']].corr().round(2).iloc[0:1]"
   ]
  },
  {
   "cell_type": "code",
   "execution_count": 13,
   "metadata": {},
   "outputs": [
    {
     "data": {
      "text/html": [
       "<div>\n",
       "<style scoped>\n",
       "    .dataframe tbody tr th:only-of-type {\n",
       "        vertical-align: middle;\n",
       "    }\n",
       "\n",
       "    .dataframe tbody tr th {\n",
       "        vertical-align: top;\n",
       "    }\n",
       "\n",
       "    .dataframe thead th {\n",
       "        text-align: right;\n",
       "    }\n",
       "</style>\n",
       "<table border=\"1\" class=\"dataframe\">\n",
       "  <thead>\n",
       "    <tr style=\"text-align: right;\">\n",
       "      <th></th>\n",
       "      <th>committed</th>\n",
       "      <th>age</th>\n",
       "      <th>years_in_labour_force</th>\n",
       "      <th>years_of_further_education</th>\n",
       "      <th>miles_resided_from_coast</th>\n",
       "    </tr>\n",
       "  </thead>\n",
       "  <tbody>\n",
       "    <tr>\n",
       "      <th>committed</th>\n",
       "      <td>1.0</td>\n",
       "      <td>0.27</td>\n",
       "      <td>0.23</td>\n",
       "      <td>-0.15</td>\n",
       "      <td>-0.1</td>\n",
       "    </tr>\n",
       "  </tbody>\n",
       "</table>\n",
       "</div>"
      ],
      "text/plain": [
       "           committed   age  years_in_labour_force  years_of_further_education  \\\n",
       "committed        1.0  0.27                   0.23                       -0.15   \n",
       "\n",
       "           miles_resided_from_coast  \n",
       "committed                      -0.1  "
      ]
     },
     "execution_count": 13,
     "metadata": {},
     "output_type": "execute_result"
    }
   ],
   "source": [
    "train[['committed','age', 'years_in_labour_force', 'years_of_further_education',\n",
    "       'miles_resided_from_coast']].corr().round(2).iloc[0:1]"
   ]
  },
  {
   "cell_type": "markdown",
   "metadata": {},
   "source": [
    "## Practical 2 - Regression\n",
    "\n",
    "Now you've developed some understanding for how your data is connected, let's use it to develop a model.  Here, we've shown a model looking at how years_in_labour is predicted by age."
   ]
  },
  {
   "cell_type": "code",
   "execution_count": 36,
   "metadata": {},
   "outputs": [],
   "source": [
    "train = pd.read_csv('../data/training.csv',index_col=0)\n"
   ]
  },
  {
   "cell_type": "code",
   "execution_count": 37,
   "metadata": {},
   "outputs": [
    {
     "data": {
      "text/html": [
       "<table class=\"simpletable\">\n",
       "<caption>OLS Regression Results</caption>\n",
       "<tr>\n",
       "  <th>Dep. Variable:</th>    <td>years_in_labour_force</td> <th>  R-squared:         </th> <td>   0.561</td>\n",
       "</tr>\n",
       "<tr>\n",
       "  <th>Model:</th>                     <td>OLS</td>          <th>  Adj. R-squared:    </th> <td>   0.559</td>\n",
       "</tr>\n",
       "<tr>\n",
       "  <th>Method:</th>               <td>Least Squares</td>     <th>  F-statistic:       </th> <td>   342.5</td>\n",
       "</tr>\n",
       "<tr>\n",
       "  <th>Date:</th>               <td>Wed, 12 Jul 2023</td>    <th>  Prob (F-statistic):</th> <td>7.98e-50</td>\n",
       "</tr>\n",
       "<tr>\n",
       "  <th>Time:</th>                   <td>15:37:37</td>        <th>  Log-Likelihood:    </th> <td> -698.63</td>\n",
       "</tr>\n",
       "<tr>\n",
       "  <th>No. Observations:</th>        <td>   270</td>         <th>  AIC:               </th> <td>   1401.</td>\n",
       "</tr>\n",
       "<tr>\n",
       "  <th>Df Residuals:</th>            <td>   268</td>         <th>  BIC:               </th> <td>   1408.</td>\n",
       "</tr>\n",
       "<tr>\n",
       "  <th>Df Model:</th>                <td>     1</td>         <th>                     </th>     <td> </td>   \n",
       "</tr>\n",
       "<tr>\n",
       "  <th>Covariance Type:</th>        <td>nonrobust</td>       <th>                     </th>     <td> </td>   \n",
       "</tr>\n",
       "</table>\n",
       "<table class=\"simpletable\">\n",
       "<tr>\n",
       "      <td></td>         <th>coef</th>     <th>std err</th>      <th>t</th>      <th>P>|t|</th>  <th>[0.025</th>    <th>0.975]</th>  \n",
       "</tr>\n",
       "<tr>\n",
       "  <th>Intercept</th> <td>    5.0470</td> <td>    0.820</td> <td>    6.159</td> <td> 0.000</td> <td>    3.434</td> <td>    6.660</td>\n",
       "</tr>\n",
       "<tr>\n",
       "  <th>age</th>       <td>    0.3713</td> <td>    0.020</td> <td>   18.506</td> <td> 0.000</td> <td>    0.332</td> <td>    0.411</td>\n",
       "</tr>\n",
       "</table>\n",
       "<table class=\"simpletable\">\n",
       "<tr>\n",
       "  <th>Omnibus:</th>       <td> 0.324</td> <th>  Durbin-Watson:     </th> <td>   2.004</td>\n",
       "</tr>\n",
       "<tr>\n",
       "  <th>Prob(Omnibus):</th> <td> 0.850</td> <th>  Jarque-Bera (JB):  </th> <td>   0.243</td>\n",
       "</tr>\n",
       "<tr>\n",
       "  <th>Skew:</th>          <td> 0.073</td> <th>  Prob(JB):          </th> <td>   0.886</td>\n",
       "</tr>\n",
       "<tr>\n",
       "  <th>Kurtosis:</th>      <td> 3.017</td> <th>  Cond. No.          </th> <td>    170.</td>\n",
       "</tr>\n",
       "</table><br/><br/>Notes:<br/>[1] Standard Errors assume that the covariance matrix of the errors is correctly specified."
      ],
      "text/latex": [
       "\\begin{center}\n",
       "\\begin{tabular}{lclc}\n",
       "\\toprule\n",
       "\\textbf{Dep. Variable:}    & years\\_in\\_labour\\_force & \\textbf{  R-squared:         } &     0.561   \\\\\n",
       "\\textbf{Model:}            &           OLS            & \\textbf{  Adj. R-squared:    } &     0.559   \\\\\n",
       "\\textbf{Method:}           &      Least Squares       & \\textbf{  F-statistic:       } &     342.5   \\\\\n",
       "\\textbf{Date:}             &     Wed, 12 Jul 2023     & \\textbf{  Prob (F-statistic):} &  7.98e-50   \\\\\n",
       "\\textbf{Time:}             &         15:37:37         & \\textbf{  Log-Likelihood:    } &   -698.63   \\\\\n",
       "\\textbf{No. Observations:} &             270          & \\textbf{  AIC:               } &     1401.   \\\\\n",
       "\\textbf{Df Residuals:}     &             268          & \\textbf{  BIC:               } &     1408.   \\\\\n",
       "\\textbf{Df Model:}         &               1          & \\textbf{                     } &             \\\\\n",
       "\\textbf{Covariance Type:}  &        nonrobust         & \\textbf{                     } &             \\\\\n",
       "\\bottomrule\n",
       "\\end{tabular}\n",
       "\\begin{tabular}{lcccccc}\n",
       "                   & \\textbf{coef} & \\textbf{std err} & \\textbf{t} & \\textbf{P$> |$t$|$} & \\textbf{[0.025} & \\textbf{0.975]}  \\\\\n",
       "\\midrule\n",
       "\\textbf{Intercept} &       5.0470  &        0.820     &     6.159  &         0.000        &        3.434    &        6.660     \\\\\n",
       "\\textbf{age}       &       0.3713  &        0.020     &    18.506  &         0.000        &        0.332    &        0.411     \\\\\n",
       "\\bottomrule\n",
       "\\end{tabular}\n",
       "\\begin{tabular}{lclc}\n",
       "\\textbf{Omnibus:}       &  0.324 & \\textbf{  Durbin-Watson:     } &    2.004  \\\\\n",
       "\\textbf{Prob(Omnibus):} &  0.850 & \\textbf{  Jarque-Bera (JB):  } &    0.243  \\\\\n",
       "\\textbf{Skew:}          &  0.073 & \\textbf{  Prob(JB):          } &    0.886  \\\\\n",
       "\\textbf{Kurtosis:}      &  3.017 & \\textbf{  Cond. No.          } &     170.  \\\\\n",
       "\\bottomrule\n",
       "\\end{tabular}\n",
       "%\\caption{OLS Regression Results}\n",
       "\\end{center}\n",
       "\n",
       "Notes: \\newline\n",
       " [1] Standard Errors assume that the covariance matrix of the errors is correctly specified."
      ],
      "text/plain": [
       "<class 'statsmodels.iolib.summary.Summary'>\n",
       "\"\"\"\n",
       "                              OLS Regression Results                             \n",
       "=================================================================================\n",
       "Dep. Variable:     years_in_labour_force   R-squared:                       0.561\n",
       "Model:                               OLS   Adj. R-squared:                  0.559\n",
       "Method:                    Least Squares   F-statistic:                     342.5\n",
       "Date:                   Wed, 12 Jul 2023   Prob (F-statistic):           7.98e-50\n",
       "Time:                           15:37:37   Log-Likelihood:                -698.63\n",
       "No. Observations:                    270   AIC:                             1401.\n",
       "Df Residuals:                        268   BIC:                             1408.\n",
       "Df Model:                              1                                         \n",
       "Covariance Type:               nonrobust                                         \n",
       "==============================================================================\n",
       "                 coef    std err          t      P>|t|      [0.025      0.975]\n",
       "------------------------------------------------------------------------------\n",
       "Intercept      5.0470      0.820      6.159      0.000       3.434       6.660\n",
       "age            0.3713      0.020     18.506      0.000       0.332       0.411\n",
       "==============================================================================\n",
       "Omnibus:                        0.324   Durbin-Watson:                   2.004\n",
       "Prob(Omnibus):                  0.850   Jarque-Bera (JB):                0.243\n",
       "Skew:                           0.073   Prob(JB):                        0.886\n",
       "Kurtosis:                       3.017   Cond. No.                         170.\n",
       "==============================================================================\n",
       "\n",
       "Notes:\n",
       "[1] Standard Errors assume that the covariance matrix of the errors is correctly specified.\n",
       "\"\"\""
      ]
     },
     "execution_count": 37,
     "metadata": {},
     "output_type": "execute_result"
    }
   ],
   "source": [
    "mod = smf.ols(formula='years_in_labour_force ~ age', data=train)\n",
    "res = mod.fit()\n",
    "res.summary()"
   ]
  },
  {
   "cell_type": "markdown",
   "metadata": {},
   "source": [
    "Can you tweak the below formula to add missing features to your model?"
   ]
  },
  {
   "cell_type": "code",
   "execution_count": 15,
   "metadata": {},
   "outputs": [
    {
     "data": {
      "text/html": [
       "<table class=\"simpletable\">\n",
       "<caption>OLS Regression Results</caption>\n",
       "<tr>\n",
       "  <th>Dep. Variable:</th>        <td>committed</td>    <th>  R-squared:         </th> <td>   0.009</td>\n",
       "</tr>\n",
       "<tr>\n",
       "  <th>Model:</th>                   <td>OLS</td>       <th>  Adj. R-squared:    </th> <td>   0.006</td>\n",
       "</tr>\n",
       "<tr>\n",
       "  <th>Method:</th>             <td>Least Squares</td>  <th>  F-statistic:       </th> <td>   2.535</td>\n",
       "</tr>\n",
       "<tr>\n",
       "  <th>Date:</th>             <td>Wed, 12 Jul 2023</td> <th>  Prob (F-statistic):</th>  <td> 0.113</td> \n",
       "</tr>\n",
       "<tr>\n",
       "  <th>Time:</th>                 <td>17:10:56</td>     <th>  Log-Likelihood:    </th> <td> -159.09</td>\n",
       "</tr>\n",
       "<tr>\n",
       "  <th>No. Observations:</th>      <td>   270</td>      <th>  AIC:               </th> <td>   322.2</td>\n",
       "</tr>\n",
       "<tr>\n",
       "  <th>Df Residuals:</th>          <td>   268</td>      <th>  BIC:               </th> <td>   329.4</td>\n",
       "</tr>\n",
       "<tr>\n",
       "  <th>Df Model:</th>              <td>     1</td>      <th>                     </th>     <td> </td>   \n",
       "</tr>\n",
       "<tr>\n",
       "  <th>Covariance Type:</th>      <td>nonrobust</td>    <th>                     </th>     <td> </td>   \n",
       "</tr>\n",
       "</table>"
      ],
      "text/latex": [
       "\\begin{center}\n",
       "\\begin{tabular}{lclc}\n",
       "\\toprule\n",
       "\\textbf{Dep. Variable:}    &    committed     & \\textbf{  R-squared:         } &    0.009  \\\\\n",
       "\\textbf{Model:}            &       OLS        & \\textbf{  Adj. R-squared:    } &    0.006  \\\\\n",
       "\\textbf{Method:}           &  Least Squares   & \\textbf{  F-statistic:       } &    2.535  \\\\\n",
       "\\textbf{Date:}             & Wed, 12 Jul 2023 & \\textbf{  Prob (F-statistic):} &   0.113   \\\\\n",
       "\\textbf{Time:}             &     17:10:56     & \\textbf{  Log-Likelihood:    } &  -159.09  \\\\\n",
       "\\textbf{No. Observations:} &         270      & \\textbf{  AIC:               } &    322.2  \\\\\n",
       "\\textbf{Df Residuals:}     &         268      & \\textbf{  BIC:               } &    329.4  \\\\\n",
       "\\textbf{Df Model:}         &           1      & \\textbf{                     } &           \\\\\n",
       "\\textbf{Covariance Type:}  &    nonrobust     & \\textbf{                     } &           \\\\\n",
       "\\bottomrule\n",
       "\\end{tabular}\n",
       "%\\caption{OLS Regression Results}\n",
       "\\end{center}"
      ],
      "text/plain": [
       "<class 'statsmodels.iolib.table.SimpleTable'>"
      ]
     },
     "execution_count": 15,
     "metadata": {},
     "output_type": "execute_result"
    }
   ],
   "source": [
    "mod = smf.ols(formula='committed ~  miles_resided_from_coast', data=train)\n",
    "res = mod.fit()\n",
    "res.summary().tables[0]"
   ]
  },
  {
   "cell_type": "markdown",
   "metadata": {},
   "source": [
    "## Practical 3 - Making Predictions\n",
    "So, you've learnt how to build a model, and have seen it fits at l"
   ]
  },
  {
   "cell_type": "code",
   "execution_count": 6,
   "metadata": {},
   "outputs": [],
   "source": [
    "mod = smf.ols(formula='committed ~ age + years_in_labour_force + years_of_further_education+ miles_resided_from_coast', data=train)\n",
    "res = mod.fit()"
   ]
  },
  {
   "cell_type": "code",
   "execution_count": 7,
   "metadata": {},
   "outputs": [
    {
     "data": {
      "text/plain": [
       "person_id\n",
       "203    0.822779\n",
       "266    0.529915\n",
       "152    0.778840\n",
       "9      0.584905\n",
       "233    0.737207\n",
       "dtype: float64"
      ]
     },
     "execution_count": 7,
     "metadata": {},
     "output_type": "execute_result"
    }
   ],
   "source": [
    "predictions = res.predict(test)\n",
    "predictions[0:5]"
   ]
  },
  {
   "cell_type": "code",
   "execution_count": 8,
   "metadata": {},
   "outputs": [
    {
     "data": {
      "text/html": [
       "<div>\n",
       "<style scoped>\n",
       "    .dataframe tbody tr th:only-of-type {\n",
       "        vertical-align: middle;\n",
       "    }\n",
       "\n",
       "    .dataframe tbody tr th {\n",
       "        vertical-align: top;\n",
       "    }\n",
       "\n",
       "    .dataframe thead th {\n",
       "        text-align: right;\n",
       "    }\n",
       "</style>\n",
       "<table border=\"1\" class=\"dataframe\">\n",
       "  <thead>\n",
       "    <tr style=\"text-align: right;\">\n",
       "      <th></th>\n",
       "      <th>age</th>\n",
       "      <th>committed</th>\n",
       "      <th>prediction</th>\n",
       "    </tr>\n",
       "    <tr>\n",
       "      <th>person_id</th>\n",
       "      <th></th>\n",
       "      <th></th>\n",
       "      <th></th>\n",
       "    </tr>\n",
       "  </thead>\n",
       "  <tbody>\n",
       "    <tr>\n",
       "      <th>221</th>\n",
       "      <td>45.36</td>\n",
       "      <td>1</td>\n",
       "      <td>True</td>\n",
       "    </tr>\n",
       "    <tr>\n",
       "      <th>289</th>\n",
       "      <td>35.08</td>\n",
       "      <td>1</td>\n",
       "      <td>True</td>\n",
       "    </tr>\n",
       "    <tr>\n",
       "      <th>211</th>\n",
       "      <td>43.05</td>\n",
       "      <td>1</td>\n",
       "      <td>True</td>\n",
       "    </tr>\n",
       "    <tr>\n",
       "      <th>148</th>\n",
       "      <td>13.74</td>\n",
       "      <td>0</td>\n",
       "      <td>False</td>\n",
       "    </tr>\n",
       "    <tr>\n",
       "      <th>165</th>\n",
       "      <td>54.82</td>\n",
       "      <td>0</td>\n",
       "      <td>True</td>\n",
       "    </tr>\n",
       "    <tr>\n",
       "      <th>78</th>\n",
       "      <td>37.89</td>\n",
       "      <td>0</td>\n",
       "      <td>True</td>\n",
       "    </tr>\n",
       "    <tr>\n",
       "      <th>113</th>\n",
       "      <td>40.38</td>\n",
       "      <td>0</td>\n",
       "      <td>True</td>\n",
       "    </tr>\n",
       "    <tr>\n",
       "      <th>249</th>\n",
       "      <td>35.08</td>\n",
       "      <td>1</td>\n",
       "      <td>True</td>\n",
       "    </tr>\n",
       "    <tr>\n",
       "      <th>250</th>\n",
       "      <td>53.85</td>\n",
       "      <td>1</td>\n",
       "      <td>True</td>\n",
       "    </tr>\n",
       "    <tr>\n",
       "      <th>104</th>\n",
       "      <td>39.42</td>\n",
       "      <td>1</td>\n",
       "      <td>True</td>\n",
       "    </tr>\n",
       "    <tr>\n",
       "      <th>42</th>\n",
       "      <td>29.51</td>\n",
       "      <td>1</td>\n",
       "      <td>True</td>\n",
       "    </tr>\n",
       "    <tr>\n",
       "      <th>281</th>\n",
       "      <td>50.43</td>\n",
       "      <td>1</td>\n",
       "      <td>True</td>\n",
       "    </tr>\n",
       "    <tr>\n",
       "      <th>295</th>\n",
       "      <td>29.02</td>\n",
       "      <td>0</td>\n",
       "      <td>True</td>\n",
       "    </tr>\n",
       "    <tr>\n",
       "      <th>157</th>\n",
       "      <td>34.13</td>\n",
       "      <td>1</td>\n",
       "      <td>True</td>\n",
       "    </tr>\n",
       "    <tr>\n",
       "      <th>238</th>\n",
       "      <td>33.00</td>\n",
       "      <td>1</td>\n",
       "      <td>True</td>\n",
       "    </tr>\n",
       "  </tbody>\n",
       "</table>\n",
       "</div>"
      ],
      "text/plain": [
       "             age  committed  prediction\n",
       "person_id                              \n",
       "221        45.36          1        True\n",
       "289        35.08          1        True\n",
       "211        43.05          1        True\n",
       "148        13.74          0       False\n",
       "165        54.82          0        True\n",
       "78         37.89          0        True\n",
       "113        40.38          0        True\n",
       "249        35.08          1        True\n",
       "250        53.85          1        True\n",
       "104        39.42          1        True\n",
       "42         29.51          1        True\n",
       "281        50.43          1        True\n",
       "295        29.02          0        True\n",
       "157        34.13          1        True\n",
       "238        33.00          1        True"
      ]
     },
     "execution_count": 8,
     "metadata": {},
     "output_type": "execute_result"
    }
   ],
   "source": [
    "threshold = 0.5\n",
    "test['prediction'] = predictions > 0.5\n",
    "test[['age','committed','prediction']].round(2).iloc[-15:]"
   ]
  }
 ],
 "metadata": {
  "kernelspec": {
   "display_name": ".venv",
   "language": "python",
   "name": "python3"
  },
  "language_info": {
   "codemirror_mode": {
    "name": "ipython",
    "version": 3
   },
   "file_extension": ".py",
   "mimetype": "text/x-python",
   "name": "python",
   "nbconvert_exporter": "python",
   "pygments_lexer": "ipython3",
   "version": "3.10.12"
  },
  "orig_nbformat": 4
 },
 "nbformat": 4,
 "nbformat_minor": 2
}
